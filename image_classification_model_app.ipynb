{
 "cells": [
  {
   "cell_type": "code",
   "execution_count": 1,
   "id": "b0160962",
   "metadata": {},
   "outputs": [],
   "source": [
    "from tensorflow.keras.models import Sequential\n",
    "from tensorflow.keras.layers import Dense, Activation\n",
    "from sklearn.model_selection import train_test_split\n",
    "from tensorflow.keras.callbacks import EarlyStopping\n",
    "import pandas as pd\n",
    "import numpy as np\n",
    "import os\n",
    "import requests\n",
    "import io\n",
    "from sklearn import metrics \n",
    "from tensorflow.keras.models import load_model\n",
    "from flask import Flask, request, jsonify, url_for, render_template\n",
    "import uuid \n",
    "from PIL import Image, ImageFile\n",
    "from io import BytesIO\n",
    "from tensorflow.keras.preprocessing import image\n",
    "from tensorflow.keras.applications.mobilenet import preprocess_input\n",
    "from tensorflow.keras.applications import MobileNet\n",
    "from tensorflow.keras.applications.mobilenet import decode_predictions\n",
    "from werkzeug.utils import secure_filename\n"
   ]
  },
  {
   "cell_type": "code",
   "execution_count": 2,
   "id": "8b3cfb90",
   "metadata": {},
   "outputs": [],
   "source": [
    "ALLOWED_EXTENSION = set(['txt', 'pdf', 'png', 'jpg', 'jpeg','gif'])\n",
    "IMAGE_HEIGHT = 224\n",
    "IMAGE_WIDTH = 224\n",
    "IMAGE_CHANNELS = 3\n"
   ]
  },
  {
   "cell_type": "code",
   "execution_count": 3,
   "id": "e902615a",
   "metadata": {},
   "outputs": [],
   "source": [
    "def allowed_file(filename):\n",
    "    return '.' in filename and \\\n",
    "     filename.rsplit('.',1)[1] in ALLOWED_EXTENSION"
   ]
  },
  {
   "cell_type": "code",
   "execution_count": null,
   "id": "c573de90",
   "metadata": {},
   "outputs": [
    {
     "name": "stderr",
     "output_type": "stream",
     "text": [
      "2021-10-13 01:07:29.670776: I tensorflow/compiler/jit/xla_cpu_device.cc:41] Not creating XLA devices, tf_xla_enable_xla_devices not set\n",
      "2021-10-13 01:07:29.670990: I tensorflow/core/platform/cpu_feature_guard.cc:142] This TensorFlow binary is optimized with oneAPI Deep Neural Network Library (oneDNN) to use the following CPU instructions in performance-critical operations:  SSE4.1 SSE4.2 AVX\n",
      "To enable them in other operations, rebuild TensorFlow with the appropriate compiler flags.\n",
      "2021-10-13 01:07:29.671718: I tensorflow/core/common_runtime/process_util.cc:146] Creating new thread pool with default inter op setting: 2. Tune using inter_op_parallelism_threads for best performance.\n"
     ]
    },
    {
     "name": "stdout",
     "output_type": "stream",
     "text": [
      " * Serving Flask app '__main__' (lazy loading)\n",
      " * Environment: production\n",
      "\u001b[31m   WARNING: This is a development server. Do not use it in a production deployment.\u001b[0m\n",
      "\u001b[2m   Use a production WSGI server instead.\u001b[0m\n",
      " * Debug mode: on\n"
     ]
    },
    {
     "name": "stderr",
     "output_type": "stream",
     "text": [
      " * Running on http://127.0.0.1:5000/ (Press CTRL+C to quit)\n"
     ]
    },
    {
     "name": "stdout",
     "output_type": "stream",
     "text": [
      "**uploads-error.png\n"
     ]
    },
    {
     "name": "stderr",
     "output_type": "stream",
     "text": [
      "2021-10-13 01:07:36.923256: I tensorflow/compiler/mlir/mlir_graph_optimization_pass.cc:116] None of the MLIR optimization passes are enabled (registered 2)\n",
      "2021-10-13 01:07:36.947128: I tensorflow/core/platform/profile_utils/cpu_utils.cc:112] CPU Frequency: 3093090000 Hz\n",
      "127.0.0.1 - - [13/Oct/2021 01:07:37] \"POST /api/image HTTP/1.1\" 200 -\n",
      "127.0.0.1 - - [13/Oct/2021 01:07:37] \"\u001b[33mGET /home/irfan/dsml/flask/static/css/style.css HTTP/1.1\u001b[0m\" 404 -\n",
      "127.0.0.1 - - [13/Oct/2021 01:07:37] \"\u001b[36mGET /static/css/style.css HTTP/1.1\u001b[0m\" 304 -\n",
      "127.0.0.1 - - [13/Oct/2021 01:07:59] \"POST /api/image HTTP/1.1\" 200 -\n",
      "127.0.0.1 - - [13/Oct/2021 01:07:59] \"\u001b[36mGET /static/css/style.css HTTP/1.1\u001b[0m\" 304 -\n",
      "127.0.0.1 - - [13/Oct/2021 01:07:59] \"\u001b[33mGET /home/irfan/dsml/flask/static/css/style.css HTTP/1.1\u001b[0m\" 404 -\n"
     ]
    },
    {
     "name": "stdout",
     "output_type": "stream",
     "text": [
      "**2021-10-04_19-12.png\n",
      "**IMG_20160730_012308.jpg\n"
     ]
    },
    {
     "name": "stderr",
     "output_type": "stream",
     "text": [
      "127.0.0.1 - - [13/Oct/2021 01:08:17] \"POST /api/image HTTP/1.1\" 200 -\n",
      "127.0.0.1 - - [13/Oct/2021 01:08:17] \"\u001b[33mGET /home/irfan/dsml/flask/static/css/style.css HTTP/1.1\u001b[0m\" 404 -\n",
      "127.0.0.1 - - [13/Oct/2021 01:08:17] \"\u001b[36mGET /static/css/style.css HTTP/1.1\u001b[0m\" 304 -\n"
     ]
    }
   ],
   "source": [
    "app = Flask(__name__, template_folder='template')\n",
    "model = MobileNet(weights='imagenet', include_top=True)\n",
    "\n",
    "@app.route('/index')\n",
    "def index():\n",
    "    return render_template(\"ImageML.html\")\n",
    "\n",
    "@app.route('/api/image', methods=['POST'])\n",
    "def upload_image():\n",
    "    if 'image' not in request.files:\n",
    "        return render_template('ImageML.html', prediction='No posted image. Should be attribute named image')\n",
    "    file = request.files['image']\n",
    "    \n",
    "    if file.filename == '':\n",
    "        return render_template('ImageML.html', prediction = \"You did not uploaded an image\")\n",
    "    if file and allowed_file(file.filename):\n",
    "        filename = secure_filename(file.filename)\n",
    "        print(\"**\"+filename)\n",
    "        x = []\n",
    "        ImageFile.LOAD_TRUNCATED_IMAGES = False\n",
    "        img = Image.open(BytesIO(file.read()))\n",
    "        img.load()\n",
    "        img = img.resize((IMAGE_WIDTH, IMAGE_HEIGHT), Image.ANTIALIAS)\n",
    "        x = image.img_to_array(img)\n",
    "        x = np.expand_dims(x, axis=0)\n",
    "        x = preprocess_input(x)\n",
    "        pred = model.predict(x)\n",
    "        lst = decode_predictions(pred, top=3)\n",
    "        \n",
    "        items = []\n",
    "        for item in lst[0]:\n",
    "            items.append({'name': item[1], 'prob': float(item[2])})\n",
    "        \n",
    "        response = {'pred': items}\n",
    "        return render_template('ImageML.html', prediction = \"I would say the image is most likely {}\".format(response))\n",
    "    \n",
    "    else:\n",
    "        return render_template('ImageML.html', prediction = 'Invalid FIle Extension')\n",
    "    \n",
    "    \n",
    "if __name__ == '__main__':\n",
    "                               app.run(debug=True, use_reloader=False)\n",
    "                               \n",
    "                               \n",
    "                               "
   ]
  },
  {
   "cell_type": "code",
   "execution_count": null,
   "id": "3e6213a7",
   "metadata": {},
   "outputs": [],
   "source": []
  }
 ],
 "metadata": {
  "kernelspec": {
   "display_name": "Python 3 (ipykernel)",
   "language": "python",
   "name": "python3"
  },
  "language_info": {
   "codemirror_mode": {
    "name": "ipython",
    "version": 3
   },
   "file_extension": ".py",
   "mimetype": "text/x-python",
   "name": "python",
   "nbconvert_exporter": "python",
   "pygments_lexer": "ipython3",
   "version": "3.9.7"
  }
 },
 "nbformat": 4,
 "nbformat_minor": 5
}
